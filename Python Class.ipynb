{
 "cells": [
  {
   "cell_type": "code",
   "execution_count": null,
   "id": "dbc7696d",
   "metadata": {},
   "outputs": [],
   "source": [
    "print('Hello World!!!')"
   ]
  },
  {
   "cell_type": "markdown",
   "id": "84bfd5b3",
   "metadata": {},
   "source": [
    "### Variable Naming\n",
    "- e.g **a = 2** \n",
    " - `a` -> variable\n",
    " - `=` -> Assigning\n",
    " - `2` -> Value\n",
    " \n",
    "- The `a` variable is saved as `2` in a certain `memory` and could be `called` for any `operation`.\n",
    "\n",
    "- Rules of **Variables**:\n",
    " - `Case Sensitive`, **Sale** != **sale**\n",
    " - `Cannot Start with numbers`, **2files** is `wrong`\n",
    " - `Use Names close to your Values`\n",
    " - `Could be as long as 224 Characters`, i.e, **224 words**"
   ]
  },
  {
   "cell_type": "markdown",
   "id": "db5ab137",
   "metadata": {},
   "source": [
    "### Basic data types"
   ]
  },
  {
   "cell_type": "markdown",
   "id": "811b93bf",
   "metadata": {},
   "source": [
    "##### Numbers\n",
    "- Integers and floats work as you would expect from other languages:"
   ]
  },
  {
   "cell_type": "code",
   "execution_count": null,
   "id": "b9256579",
   "metadata": {},
   "outputs": [],
   "source": [
    "x = 3\n",
    "print(x)\n",
    "print(type(x))"
   ]
  },
  {
   "cell_type": "code",
   "execution_count": null,
   "id": "c303a52f",
   "metadata": {},
   "outputs": [],
   "source": [
    "print(x + 1)   # Addition\n",
    "print(x - 1)   # Subtraction\n",
    "print(x * 2)   # Multiplication\n",
    "print(x ** 2)  # Exponentiation"
   ]
  },
  {
   "cell_type": "code",
   "execution_count": null,
   "id": "3a6cef40",
   "metadata": {},
   "outputs": [],
   "source": [
    "x = 6\n",
    "x += 1    # x = x + 1\n",
    "print(x)\n",
    "x *= 2    # x = x * 2\n",
    "print(x)"
   ]
  },
  {
   "cell_type": "code",
   "execution_count": null,
   "id": "81ae453b",
   "metadata": {},
   "outputs": [],
   "source": [
    "y = 2.5\n",
    "print(type(y))\n",
    "print(y, y + 1, y * 2, y ** 2)"
   ]
  },
  {
   "cell_type": "code",
   "execution_count": null,
   "id": "fb6eee3f",
   "metadata": {},
   "outputs": [],
   "source": [
    "z = input('Enter your name: ')\n",
    "print('your name is: ', z)\n",
    "print('nice meeting you: ',z)"
   ]
  },
  {
   "cell_type": "code",
   "execution_count": null,
   "id": "df641936",
   "metadata": {},
   "outputs": [],
   "source": [
    "print('Can I ask a question?')\n",
    "age = int(input('what is your age: '))\n",
    "print('Waoh, Your name is: ', z, 'and you are: ', age, 'years old you will be: ', age + 1, 'next year')"
   ]
  },
  {
   "cell_type": "markdown",
   "id": "a093420b",
   "metadata": {},
   "source": [
    "### Operations in Python:\n",
    "- Mathematical\n",
    " - `+` -- **Addition**\n",
    " - `-` -- **Sutraction**\n",
    " - `*` -- **Multiplication**\n",
    " - `/` -- **Normal Division**\n",
    " - `//` -- **Floor Division**\n",
    " - `%`  -- **Modulus or Remainder Division**\n",
    "- Logical\n",
    " - `>`  -- **Greater Than**\n",
    " - `<`  -- **Less Than**\n",
    " - `>=` -- **Greater Than Equal To**\n",
    " - `<=` -- **Less ThaN Eqaul To**\n",
    "- Comparisom\n",
    "  - `!=` -- **Not Equal To**\n",
    "  - `==` -- **Equal To**"
   ]
  },
  {
   "cell_type": "markdown",
   "id": "5049929a",
   "metadata": {},
   "source": [
    "### Booleans"
   ]
  },
  {
   "cell_type": "code",
   "execution_count": null,
   "id": "e6065079",
   "metadata": {},
   "outputs": [],
   "source": [
    "a = 2\n",
    "b = 3\n",
    "a > b"
   ]
  },
  {
   "cell_type": "code",
   "execution_count": null,
   "id": "c5a45667",
   "metadata": {},
   "outputs": [],
   "source": [
    "b > a"
   ]
  },
  {
   "cell_type": "code",
   "execution_count": null,
   "id": "ffc59018",
   "metadata": {},
   "outputs": [],
   "source": [
    "a is b"
   ]
  },
  {
   "cell_type": "code",
   "execution_count": null,
   "id": "e99d096e",
   "metadata": {},
   "outputs": [],
   "source": [
    "b != a"
   ]
  },
  {
   "cell_type": "markdown",
   "id": "88fc194d",
   "metadata": {},
   "source": [
    "##### Strings"
   ]
  },
  {
   "cell_type": "code",
   "execution_count": null,
   "id": "aa9ee592",
   "metadata": {},
   "outputs": [],
   "source": [
    "hello = 'hello'   # String literals can use single quotes\n",
    "world = \"world\"   # or double quotes; it does not matter\n",
    "print(hello)\n",
    "print(len(hello))"
   ]
  },
  {
   "cell_type": "code",
   "execution_count": null,
   "id": "c9c3284a",
   "metadata": {},
   "outputs": [],
   "source": [
    "hw12 = '{} {} {}'.format(hello, world, 12)  # string formatting\n",
    "print(hw12)"
   ]
  },
  {
   "cell_type": "code",
   "execution_count": null,
   "id": "542d5836",
   "metadata": {},
   "outputs": [],
   "source": [
    "s = \"hello\"\n",
    "print(s.capitalize())  # Capitalize a string\n",
    "print(s.upper())       # Convert a string to uppercase; prints \"HELLO\"\n",
    "print(s.rjust(7))      # Right-justify a string, padding with spaces\n",
    "print(s.center(7))     # Center a string, padding with spaces\n",
    "print(s.replace('l', '(ell)'))  # Replace all instances of one substring with another\n",
    "print('  world '.strip())  # Strip leading and trailing whitespace"
   ]
  },
  {
   "cell_type": "markdown",
   "id": "b936f337",
   "metadata": {},
   "source": [
    "##### List\n",
    "- A list is the Python equivalent of an array, but is resizeable and can contain elements of different types:"
   ]
  },
  {
   "cell_type": "code",
   "execution_count": null,
   "id": "1faccb9e",
   "metadata": {},
   "outputs": [],
   "source": [
    "xs = [3, 1, 2]   # Create a list\n",
    "print(xs, xs[2])\n",
    "print(xs[-1])     # Negative indices count from the end of the list; prints \"2\""
   ]
  },
  {
   "cell_type": "code",
   "execution_count": null,
   "id": "13c79b5c",
   "metadata": {},
   "outputs": [],
   "source": [
    "xs[2] = 'foo'    # Lists can contain elements of different types\n",
    "print(xs)"
   ]
  },
  {
   "cell_type": "code",
   "execution_count": null,
   "id": "1b6c51a6",
   "metadata": {},
   "outputs": [],
   "source": [
    "xs.append('bar') # Add a new element to the end of the list\n",
    "print(xs)"
   ]
  },
  {
   "cell_type": "code",
   "execution_count": null,
   "id": "6007ee6c",
   "metadata": {},
   "outputs": [],
   "source": [
    "x = xs.pop()     # Remove and return the last element of the list\n",
    "print(x, xs)"
   ]
  },
  {
   "cell_type": "markdown",
   "id": "6a21854a",
   "metadata": {},
   "source": [
    "### dictionary"
   ]
  },
  {
   "cell_type": "code",
   "execution_count": null,
   "id": "8ebec861",
   "metadata": {},
   "outputs": [],
   "source": [
    "empty_dict = {}\n",
    "d1 = {'a' : 'some value', 'b' : [1, 2, 3, 4]}\n",
    "d1"
   ]
  },
  {
   "cell_type": "code",
   "execution_count": null,
   "id": "2c80c204",
   "metadata": {},
   "outputs": [],
   "source": [
    "family = {'Dad': 42, \n",
    "          'Mom': 37,\n",
    "          'Josh': 16,\n",
    "          'Nancy':14\n",
    "}"
   ]
  },
  {
   "cell_type": "code",
   "execution_count": null,
   "id": "9f0901ac",
   "metadata": {},
   "outputs": [],
   "source": [
    "family"
   ]
  },
  {
   "cell_type": "code",
   "execution_count": null,
   "id": "d31ba1c3",
   "metadata": {},
   "outputs": [],
   "source": [
    "family.keys()"
   ]
  },
  {
   "cell_type": "code",
   "execution_count": null,
   "id": "58ec732a",
   "metadata": {},
   "outputs": [],
   "source": [
    "list(family.values())"
   ]
  },
  {
   "cell_type": "code",
   "execution_count": null,
   "id": "6f47d246",
   "metadata": {},
   "outputs": [],
   "source": [
    "family.update({'Vivian' : 9, 'Musa' : 7})"
   ]
  },
  {
   "cell_type": "code",
   "execution_count": null,
   "id": "f4c21341",
   "metadata": {},
   "outputs": [],
   "source": [
    "family"
   ]
  },
  {
   "cell_type": "markdown",
   "id": "7f7a4a44",
   "metadata": {},
   "source": [
    "#### Sets\n",
    "- A set is an unordered collection of distinct elements. As a simple example, consider the following:"
   ]
  },
  {
   "cell_type": "code",
   "execution_count": null,
   "id": "1ec6dacb",
   "metadata": {},
   "outputs": [],
   "source": [
    "a = {1, 2, 3, 4, 5}\n",
    "b = {3, 4, 5, 6, 7, 8}"
   ]
  },
  {
   "cell_type": "code",
   "execution_count": null,
   "id": "680435cf",
   "metadata": {},
   "outputs": [],
   "source": [
    "a.union(b)\n",
    "a | b"
   ]
  },
  {
   "cell_type": "code",
   "execution_count": null,
   "id": "eb33997c",
   "metadata": {},
   "outputs": [],
   "source": [
    "a.intersection(b)\n",
    "a & b"
   ]
  },
  {
   "cell_type": "code",
   "execution_count": null,
   "id": "7f691277",
   "metadata": {},
   "outputs": [],
   "source": [
    "{1, 2, 3} == {3, 2, 1}"
   ]
  },
  {
   "cell_type": "code",
   "execution_count": null,
   "id": "9436c876",
   "metadata": {},
   "outputs": [],
   "source": [
    "animals = {'cat', 'dog'}\n",
    "print('cat' in animals)   # Check if an element is in a set; prints \"True\"\n",
    "print('fish' in animals)  # prints \"False\""
   ]
  },
  {
   "cell_type": "code",
   "execution_count": null,
   "id": "44f82400",
   "metadata": {},
   "outputs": [],
   "source": [
    "animals.add('fish')      # Add an element to a set\n",
    "print('fish' in animals)\n",
    "print(len(animals))       # Number of elements in a set;"
   ]
  },
  {
   "cell_type": "code",
   "execution_count": null,
   "id": "a4815855",
   "metadata": {},
   "outputs": [],
   "source": [
    "animals.add('cat')       # Adding an element that is already in the set does nothing\n",
    "print(len(animals))\n",
    "animals.remove('cat')    # Remove an element from a set\n",
    "print(len(animals))"
   ]
  },
  {
   "cell_type": "markdown",
   "id": "f20d4103",
   "metadata": {},
   "source": [
    "### Slicing\n",
    "- In addition to accessing list elements one at a time, Python provides concise syntax to access sublists; this is known as slicing:"
   ]
  },
  {
   "cell_type": "code",
   "execution_count": null,
   "id": "ffd5a87a",
   "metadata": {},
   "outputs": [],
   "source": [
    "nums = list(range(5))    # range is a built-in function that creates a list of integers\n",
    "print(nums)         # Prints \"[0, 1, 2, 3, 4]\"\n",
    "print(nums[2:4])    # Get a slice from index 2 to 4 (exclusive); prints \"[2, 3]\"\n",
    "print(nums[2:])     # Get a slice from index 2 to the end; prints \"[2, 3, 4]\"\n",
    "print(nums[:2])     # Get a slice from the start to index 2 (exclusive); prints \"[0, 1]\"\n",
    "print(nums[:])      # Get a slice of the whole list; prints [\"0, 1, 2, 3, 4]\"\n",
    "print(nums[:-1])    # Slice indices can be negative; prints [\"0, 1, 2, 3]\"\n",
    "nums[2:4] = [8, 9] # Assign a new sublist to a slice\n",
    "print(nums)         # Prints \"[0, 1, 8, 9, 4]\""
   ]
  },
  {
   "cell_type": "code",
   "execution_count": null,
   "id": "ea58fc34",
   "metadata": {},
   "outputs": [],
   "source": [
    "seq = [7, 2, 3, 7, 5, 6, 0, 1]\n",
    "seq[1:5]"
   ]
  },
  {
   "cell_type": "code",
   "execution_count": null,
   "id": "f7b76a34",
   "metadata": {},
   "outputs": [],
   "source": [
    "seq[3:4] = [6, 3]\n",
    "seq"
   ]
  },
  {
   "cell_type": "code",
   "execution_count": null,
   "id": "662b3066",
   "metadata": {},
   "outputs": [],
   "source": [
    "seq[:5]\n",
    "seq[3:]"
   ]
  },
  {
   "cell_type": "code",
   "execution_count": null,
   "id": "6c95ec96",
   "metadata": {},
   "outputs": [],
   "source": [
    "seq[-4:]\n",
    "seq[-6:-2]"
   ]
  },
  {
   "cell_type": "code",
   "execution_count": null,
   "id": "b0112158",
   "metadata": {},
   "outputs": [],
   "source": [
    "seq[::2]"
   ]
  },
  {
   "cell_type": "code",
   "execution_count": null,
   "id": "9cb9ef86",
   "metadata": {},
   "outputs": [],
   "source": [
    "seq[::-1]"
   ]
  },
  {
   "cell_type": "markdown",
   "id": "a9613496",
   "metadata": {},
   "source": [
    "### Loops \n",
    "- Control Flows\n",
    "    - if, elif and else\n",
    "    - For Loop\n",
    "    - While Loop"
   ]
  },
  {
   "cell_type": "markdown",
   "id": "a9444de9",
   "metadata": {},
   "source": [
    "#### If, Elif and Else"
   ]
  },
  {
   "cell_type": "code",
   "execution_count": null,
   "id": "4e1afd7d",
   "metadata": {},
   "outputs": [],
   "source": [
    "if x < 0:\n",
    "    print('It's negative')"
   ]
  },
  {
   "cell_type": "code",
   "execution_count": null,
   "id": "693f11a6",
   "metadata": {},
   "outputs": [],
   "source": [
    "if x < 0:\n",
    "    print('It's negative')\n",
    "elif x == 0:\n",
    "    print('Equal to zero')\n",
    "elif 0 < x < 5:\n",
    "    print('Positive but smaller than 5')\n",
    "else:\n",
    "    print('Positive and larger than or equal to 5')"
   ]
  },
  {
   "cell_type": "code",
   "execution_count": null,
   "id": "d486bf5e",
   "metadata": {},
   "outputs": [],
   "source": [
    "a = 5; b = 7\n",
    "c = 8; d = 4\n",
    "if a < b or c > d:\n",
    "    print('Made it')"
   ]
  },
  {
   "cell_type": "code",
   "execution_count": null,
   "id": "c9813388",
   "metadata": {},
   "outputs": [],
   "source": [
    "score = 30\n",
    "if score > 30:\n",
    "    print('greater')\n",
    "elif score == 30:\n",
    "    print('Equal')\n",
    "else:\n",
    "    print('Lesser')"
   ]
  },
  {
   "cell_type": "markdown",
   "id": "fbc99507",
   "metadata": {},
   "source": [
    "#### For Loop \n",
    "- for value in collection: # do something with value"
   ]
  },
  {
   "cell_type": "code",
   "execution_count": null,
   "id": "2a72e946",
   "metadata": {},
   "outputs": [],
   "source": [
    "a = [1,2,3,4,5,6,7,8,9,10]\n",
    "for i in a:\n",
    "    print(i, i**2)"
   ]
  },
  {
   "cell_type": "code",
   "execution_count": null,
   "id": "8f2f669c",
   "metadata": {},
   "outputs": [],
   "source": [
    "for i in a:\n",
    "    j = i**2 +5\n",
    "    print(j)"
   ]
  },
  {
   "cell_type": "code",
   "execution_count": null,
   "id": "2b4c24b5",
   "metadata": {},
   "outputs": [],
   "source": [
    "for k in a:\n",
    "    if k%2==0:\n",
    "        print(k)"
   ]
  },
  {
   "cell_type": "markdown",
   "id": "3ff9c4d2",
   "metadata": {},
   "source": [
    "#### List Comprehension\n",
    "-When programming, frequently we want to `transform one type of data into another`. As a simple example, consider the following code that computes square numbers:"
   ]
  },
  {
   "cell_type": "code",
   "execution_count": null,
   "id": "bdf5947d",
   "metadata": {},
   "outputs": [],
   "source": [
    "nums = [0, 1, 2, 3, 4]\n",
    "squares = []\n",
    "for x in nums:\n",
    "    squares.append(x ** 2)\n",
    "print(squares)"
   ]
  },
  {
   "cell_type": "code",
   "execution_count": null,
   "id": "7eb02882",
   "metadata": {},
   "outputs": [],
   "source": [
    "nums = [0, 1, 2, 3, 4]\n",
    "squares = [x ** 2 for x in nums]\n",
    "print(squares)"
   ]
  },
  {
   "cell_type": "code",
   "execution_count": null,
   "id": "b21b0530",
   "metadata": {},
   "outputs": [],
   "source": [
    "nums = [0, 1, 2, 3, 4]\n",
    "even_squares = [x ** 2 for x in nums if x % 2 == 0]\n",
    "print(even_squares)"
   ]
  },
  {
   "cell_type": "code",
   "execution_count": null,
   "id": "c08ee7b6",
   "metadata": {},
   "outputs": [],
   "source": [
    "strings = ['a', 'as', 'bat', 'car', 'dove', 'python']\n",
    "[x.upper() for x in strings if len(x) > 2]"
   ]
  },
  {
   "cell_type": "code",
   "execution_count": null,
   "id": "f9d387b2",
   "metadata": {},
   "outputs": [],
   "source": [
    "all_data = [['John', 'Emily', 'Michael', 'Mary', 'Steven'],\n",
    "            ['Maria', 'Juan', 'Javier', 'Natalia', 'Pilar']]\n",
    "result = [name for names in all_data for name in names\n",
    "          if name.count('e') >= 2]\n",
    "result"
   ]
  },
  {
   "cell_type": "code",
   "execution_count": null,
   "id": "c0ca2600",
   "metadata": {},
   "outputs": [],
   "source": [
    "#for dictionary"
   ]
  },
  {
   "cell_type": "code",
   "execution_count": null,
   "id": "06a2b98f",
   "metadata": {},
   "outputs": [],
   "source": [
    "d = {'person': 2, 'cat': 4, 'spider': 8}\n",
    "for animal, legs in d.items():\n",
    "    print('A {} has {} legs'.format(animal, legs))"
   ]
  },
  {
   "cell_type": "code",
   "execution_count": null,
   "id": "960f685e",
   "metadata": {},
   "outputs": [],
   "source": [
    "nums = [0, 1, 2, 3, 4]\n",
    "even_num_to_square = {x: x ** 2 for x in nums if x % 2 == 0}\n",
    "print(even_num_to_square)"
   ]
  },
  {
   "cell_type": "markdown",
   "id": "ceb02368",
   "metadata": {},
   "source": [
    "#### While Loop\n",
    "- Just like `For loop`, It check for the condition given and then `iterates` through the range of given values"
   ]
  },
  {
   "cell_type": "code",
   "execution_count": null,
   "id": "59d7bb18",
   "metadata": {},
   "outputs": [],
   "source": [
    "c = 10\n",
    "while c > 0 and c <= 10:\n",
    "    print(c)\n",
    "    c += 2"
   ]
  },
  {
   "cell_type": "code",
   "execution_count": null,
   "id": "fa5fb912",
   "metadata": {},
   "outputs": [],
   "source": [
    "x = 256\n",
    "total = 0\n",
    "while x > 0:\n",
    "    if total > 500:\n",
    "        break\n",
    "    total += x\n",
    "    x = x // 2"
   ]
  },
  {
   "cell_type": "markdown",
   "id": "c9708848",
   "metadata": {},
   "source": [
    "### Python Library \n",
    "- A Python library is a set of `pre-written functions and modules` that extend Python's capabilities, making it easier for developers to `perform common tasks` or `access specific functionality` in their programs. Libraries promote `code reusability` and help streamline the development process by providing a collection of pre-implemented features.\n",
    "\n",
    "- Example below show how to use a python library\n",
    "  - `from a import b`\n",
    "  - `import abc as a`\n",
    "  - `from abc. d import e`"
   ]
  },
  {
   "cell_type": "code",
   "execution_count": null,
   "id": "e471ff19",
   "metadata": {},
   "outputs": [],
   "source": [
    "#Calculate the Area of a circle of Radius 5cm\n",
    "\n",
    "#Area of a Circle is pi*r**2\n",
    "\n",
    "#first we need pi which is in the math library/module\n",
    "\n",
    "#How do we get it\n",
    "            # Solution"
   ]
  },
  {
   "cell_type": "code",
   "execution_count": null,
   "id": "9140855a",
   "metadata": {},
   "outputs": [],
   "source": [
    "pi"
   ]
  },
  {
   "cell_type": "code",
   "execution_count": null,
   "id": "99544146",
   "metadata": {},
   "outputs": [],
   "source": [
    "from math import pi\n",
    "\n",
    "#Yuo can as well say math.pi\n",
    "\n",
    "radius = 5\n",
    "area_of_a_circle = pi * radius **2\n",
    "answer = round(area_of_a_circle, 2)\n",
    "print('the area of the circle is: ',answer,'cm square')"
   ]
  },
  {
   "cell_type": "code",
   "execution_count": null,
   "id": "22a3e8e5",
   "metadata": {},
   "outputs": [],
   "source": [
    "import math\n",
    "math.log(4)"
   ]
  },
  {
   "cell_type": "code",
   "execution_count": null,
   "id": "5806da94",
   "metadata": {},
   "outputs": [],
   "source": [
    "from math import sin, cos\n",
    "from math import *\n",
    "dir(math)"
   ]
  },
  {
   "cell_type": "code",
   "execution_count": null,
   "id": "6903d3a8",
   "metadata": {},
   "outputs": [],
   "source": [
    "'''\n",
    "other library include:\n",
    "    -- random\n",
    "    -- Numpy\n",
    "    -- itertools\n",
    "    -- counter etc\n",
    "'''"
   ]
  },
  {
   "cell_type": "markdown",
   "id": "30c1debc",
   "metadata": {},
   "source": [
    "#### The Def function\n",
    "- Python functions are defined using the `def keyword`. For example:"
   ]
  },
  {
   "cell_type": "code",
   "execution_count": null,
   "id": "09258370",
   "metadata": {},
   "outputs": [],
   "source": [
    "def average(a,b):\n",
    "    e = a+b\n",
    "    f = 2\n",
    "    ave = e/f\n",
    "    return ave"
   ]
  },
  {
   "cell_type": "code",
   "execution_count": null,
   "id": "c7504647",
   "metadata": {},
   "outputs": [],
   "source": [
    "average(4,5)"
   ]
  },
  {
   "cell_type": "code",
   "execution_count": null,
   "id": "30ed7d9b",
   "metadata": {},
   "outputs": [],
   "source": [
    "def sum_and_average(*values):\n",
    "    total = sum(values)\n",
    "    average = total / len(values)\n",
    "    return total, average"
   ]
  },
  {
   "cell_type": "code",
   "execution_count": null,
   "id": "8e0b4983",
   "metadata": {},
   "outputs": [],
   "source": [
    "sum_and_average(2,4,6,8,0,1,3)"
   ]
  },
  {
   "cell_type": "code",
   "execution_count": null,
   "id": "90ef8463",
   "metadata": {},
   "outputs": [],
   "source": [
    "total, average = sum_and_average(*values)\n",
    "print(total); print(average)"
   ]
  },
  {
   "cell_type": "code",
   "execution_count": null,
   "id": "4dfe7b57",
   "metadata": {},
   "outputs": [],
   "source": [
    "def sign(x):\n",
    "    if x > 0:\n",
    "        return 'positive'\n",
    "    elif x < 0:\n",
    "        return 'negative'\n",
    "    else:\n",
    "        return 'zero'\n",
    "\n",
    "for x in [-1, 0, 1]:\n",
    "    print(sign(x))"
   ]
  },
  {
   "cell_type": "code",
   "execution_count": null,
   "id": "26909662",
   "metadata": {},
   "outputs": [],
   "source": [
    "def multiplication_table(number, range):\n",
    "    for i in range(1, range + 1):\n",
    "        result = number * i\n",
    "        print(f\"{number} x {i} = {result}\")\n",
    "\n",
    "# Example usage:\n",
    "number = 5  # You can change this to the desired number\n",
    "table_range = 10  # You can change this to the desired range\n",
    "\n",
    "multiplication_table(number, table_range)"
   ]
  },
  {
   "cell_type": "code",
   "execution_count": null,
   "id": "dd13b17e",
   "metadata": {},
   "outputs": [],
   "source": [
    "def celsius_to_fahrenheit(celsius):\n",
    "    fahrenheit = (celsius * 9/5) + 32\n",
    "    return fahrenheit\n",
    "\n",
    "def fahrenheit_to_celsius(fahrenheit):\n",
    "    celsius = (fahrenheit - 32) * 5/9\n",
    "    return celsius\n",
    "\n",
    "# Example usage:\n",
    "celsius_temperature = 25\n",
    "fahrenheit_temperature = celsius_to_fahrenheit(celsius_temperature)\n",
    "print(f\"{celsius_temperature}°C is equal to {fahrenheit_temperature}°F\")\n",
    "\n",
    "fahrenheit_temperature = 77\n",
    "celsius_temperature = fahrenheit_to_celsius(fahrenheit_temperature)\n",
    "print(f\"{fahrenheit_temperature}°F is equal to {celsius_temperature}°C\")"
   ]
  },
  {
   "cell_type": "code",
   "execution_count": null,
   "id": "f2217807",
   "metadata": {},
   "outputs": [],
   "source": []
  },
  {
   "cell_type": "markdown",
   "id": "96281314",
   "metadata": {},
   "source": [
    "### BONUS"
   ]
  },
  {
   "cell_type": "markdown",
   "id": "12a1c6ea",
   "metadata": {},
   "source": [
    "#### Sorting"
   ]
  },
  {
   "cell_type": "code",
   "execution_count": null,
   "id": "34635d69",
   "metadata": {},
   "outputs": [],
   "source": [
    "a = [3,6,1,7,9,10,2,5]\n",
    "a.sort()\n",
    "a"
   ]
  },
  {
   "cell_type": "code",
   "execution_count": null,
   "id": "7d98750d",
   "metadata": {},
   "outputs": [],
   "source": [
    "my_list = [64, 34, 25, 12, 22, 11, 90]\n",
    "sorted_list = sorted(my_list)\n",
    "print(\"Sorted list:\", sorted_list)"
   ]
  },
  {
   "cell_type": "code",
   "execution_count": null,
   "id": "f6f9309c",
   "metadata": {},
   "outputs": [],
   "source": [
    "list(reversed(range(10)))"
   ]
  },
  {
   "cell_type": "markdown",
   "id": "a9358ef5",
   "metadata": {},
   "source": [
    "### Zip "
   ]
  },
  {
   "cell_type": "code",
   "execution_count": null,
   "id": "34f0d489",
   "metadata": {},
   "outputs": [],
   "source": [
    "seq1 = ['foo', 'bar', 'baz']\n",
    "seq2 = ['one', 'two', 'three']\n",
    "zipped = zip(seq1, seq2)\n",
    "list(zipped)"
   ]
  },
  {
   "cell_type": "code",
   "execution_count": null,
   "id": "29f5e4bc",
   "metadata": {},
   "outputs": [],
   "source": [
    "seq3 = [False, True]\n",
    "list(zip(seq1, seq2, seq3))"
   ]
  },
  {
   "cell_type": "code",
   "execution_count": null,
   "id": "19e00c63",
   "metadata": {},
   "outputs": [],
   "source": [
    "for i, (a, b) in enumerate(zip(seq1, seq2)):\n",
    "    print('{0}: {1}, {2}'.format(i, a, b))"
   ]
  },
  {
   "cell_type": "code",
   "execution_count": null,
   "id": "400a3f24",
   "metadata": {},
   "outputs": [],
   "source": [
    "pitchers = [('Nolan', 'Ryan'), ('Roger', 'Clemens'),\n",
    "            ('Curt', 'Schilling')]\n",
    "first_names, last_names = zip(*pitchers)\n",
    "first_names\n",
    "last_names"
   ]
  },
  {
   "cell_type": "code",
   "execution_count": null,
   "id": "22b46e98",
   "metadata": {},
   "outputs": [],
   "source": []
  },
  {
   "cell_type": "code",
   "execution_count": null,
   "id": "d47fed7d",
   "metadata": {},
   "outputs": [],
   "source": [
    "values = 1, 2, 3, 4, 5\n",
    "a, b, *rest = values\n",
    "a, b\n",
    "rest"
   ]
  },
  {
   "cell_type": "code",
   "execution_count": null,
   "id": "5cbdd29a",
   "metadata": {},
   "outputs": [],
   "source": [
    "seq = [(1, 2, 3), (4, 5, 6), (7, 8, 9)]\n",
    "for a, b, c in seq:\n",
    "    print('a={0}, b={1}, c={2}'.format(a, b, c))"
   ]
  },
  {
   "cell_type": "code",
   "execution_count": null,
   "id": "52fdd30c",
   "metadata": {},
   "outputs": [],
   "source": [
    "range(10)\n",
    "list(range(10))"
   ]
  },
  {
   "cell_type": "code",
   "execution_count": null,
   "id": "ba570699",
   "metadata": {},
   "outputs": [],
   "source": [
    "range??"
   ]
  },
  {
   "cell_type": "code",
   "execution_count": null,
   "id": "928d8728",
   "metadata": {},
   "outputs": [],
   "source": [
    "help(range)"
   ]
  },
  {
   "cell_type": "markdown",
   "id": "2e97c0ea",
   "metadata": {},
   "source": [
    "### Date Time"
   ]
  },
  {
   "cell_type": "code",
   "execution_count": null,
   "id": "fbb516b2",
   "metadata": {},
   "outputs": [],
   "source": [
    "from datetime import datetime, date, time\n",
    "dt = datetime(2011, 10, 29, 20, 30, 21)\n",
    "\n",
    "dt.day,dt.minute"
   ]
  },
  {
   "cell_type": "code",
   "execution_count": null,
   "id": "c74ed576",
   "metadata": {},
   "outputs": [],
   "source": [
    "dt.date()\n",
    "dt.time()"
   ]
  },
  {
   "cell_type": "code",
   "execution_count": null,
   "id": "1d9c05ed",
   "metadata": {},
   "outputs": [],
   "source": [
    "dt.strftime('%m/%d/%Y %H:%M')"
   ]
  },
  {
   "cell_type": "code",
   "execution_count": null,
   "id": "29712e45",
   "metadata": {},
   "outputs": [],
   "source": [
    "datetime.strptime('20091031', '%Y%m%d')"
   ]
  },
  {
   "cell_type": "code",
   "execution_count": null,
   "id": "c4e83521",
   "metadata": {},
   "outputs": [],
   "source": [
    "dt.now()"
   ]
  },
  {
   "cell_type": "code",
   "execution_count": null,
   "id": "c8ac11a3",
   "metadata": {},
   "outputs": [],
   "source": [
    "dt.replace(minute=0, second=0)"
   ]
  },
  {
   "cell_type": "code",
   "execution_count": null,
   "id": "635de245",
   "metadata": {},
   "outputs": [],
   "source": [
    "dt2 = datetime(2011, 11, 15, 22, 30)\n",
    "delta = dt2 - dt\n",
    "delta\n",
    "type(delta)"
   ]
  },
  {
   "cell_type": "code",
   "execution_count": null,
   "id": "4f058deb",
   "metadata": {},
   "outputs": [],
   "source": [
    "dt\n",
    "dt + delta"
   ]
  }
 ],
 "metadata": {
  "kernelspec": {
   "display_name": "Python 3 (ipykernel)",
   "language": "python",
   "name": "python3"
  },
  "language_info": {
   "codemirror_mode": {
    "name": "ipython",
    "version": 3
   },
   "file_extension": ".py",
   "mimetype": "text/x-python",
   "name": "python",
   "nbconvert_exporter": "python",
   "pygments_lexer": "ipython3",
   "version": "3.11.5"
  }
 },
 "nbformat": 4,
 "nbformat_minor": 5
}
